{
 "cells": [
  {
   "cell_type": "code",
   "execution_count": 1,
   "id": "001e13ea",
   "metadata": {},
   "outputs": [],
   "source": [
    "import numpy as np\n",
    "import os"
   ]
  },
  {
   "cell_type": "code",
   "execution_count": 15,
   "id": "fc0041b1",
   "metadata": {},
   "outputs": [],
   "source": [
    "n = np.load('1.npy')"
   ]
  },
  {
   "cell_type": "code",
   "execution_count": 31,
   "id": "3402fbaa",
   "metadata": {},
   "outputs": [],
   "source": [
    "colors = dict()\n",
    "colors[220] = 'pedestrian'\n",
    "colors[128] = 'road'\n",
    "colors[0] = 'vehicle'\n",
    "colors[70] = 'building'\n",
    "colors[100] = 'fence'\n",
    "colors[153] = 'pole'\n",
    "colors[157] = 'roadline'\n",
    "colors[244] = 'sidewalk'\n",
    "colors[107] = 'vegetation'\n",
    "colors[102] = 'wall'\n",
    "colors[250] = 'trafficsign'\n",
    "colors[70] = 'sky' # same as building !\n",
    "data = dict()"
   ]
  },
  {
   "cell_type": "code",
   "execution_count": null,
   "id": "bf0bcf2c",
   "metadata": {},
   "outputs": [],
   "source": []
  },
  {
   "cell_type": "code",
   "execution_count": null,
   "id": "012313f1",
   "metadata": {},
   "outputs": [],
   "source": []
  },
  {
   "cell_type": "code",
   "execution_count": 32,
   "id": "aaf9db50",
   "metadata": {},
   "outputs": [
    {
     "name": "stdout",
     "output_type": "stream",
     "text": [
      "{0: {'pedestrian', 'pole', 'vehicle', 'roadline', 'trafficsign', 'vegetation', 'sidewalk', 'sky', 'road', 'wall'}, 1: {'pole', 'pedestrian', 'vehicle', 'roadline', 'trafficsign', 'vegetation', 'sidewalk', 'sky', 'road', 'wall'}, 2: {'pedestrian', 'pole', 'vehicle', 'roadline', 'trafficsign', 'vegetation', 'sidewalk', 'sky', 'road'}, 3: {'pedestrian', 'vehicle', 'pole', 'roadline', 'sidewalk', 'sky', 'road', 'wall'}, 4: {'pole', 'pedestrian', 'vehicle', 'roadline', 'fence', 'trafficsign', 'vegetation', 'sidewalk', 'sky', 'road', 'wall'}, 5: {'pole', 'pedestrian', 'vehicle', 'roadline', 'fence', 'trafficsign', 'vegetation', 'sidewalk', 'sky', 'road', 'wall'}, 6: {'pedestrian', 'pole', 'vehicle', 'roadline', 'sidewalk', 'sky', 'road', 'wall'}, 7: {'pedestrian', 'pole', 'vehicle', 'roadline', 'vegetation', 'sidewalk', 'sky', 'road', 'wall'}, 8: {'pole', 'vehicle', 'roadline', 'fence', 'trafficsign', 'vegetation', 'sidewalk', 'sky', 'road', 'wall'}, 9: {'pole', 'pedestrian', 'vehicle', 'roadline', 'fence', 'trafficsign', 'vegetation', 'sidewalk', 'sky', 'road', 'wall'}}\n"
     ]
    }
   ],
   "source": [
    "for n1 in range(0, len(n)):\n",
    "    for n2 in range(0, len(n[n1])):\n",
    "        for n3 in range(0, len(n[n1][n2])):\n",
    "            for n4 in range(0, len(n[n1][n2][n3])):\n",
    "                if n[n1][n2][n3][n4] in colors:\n",
    "                    if n1 not in data:\n",
    "                        data[n1] = set()\n",
    "                    else:\n",
    "                        data[n1].add(colors[n[n1][n2][n3][n4]])\n",
    "print(data)"
   ]
  },
  {
   "cell_type": "code",
   "execution_count": null,
   "id": "4f447d81",
   "metadata": {},
   "outputs": [],
   "source": []
  },
  {
   "cell_type": "code",
   "execution_count": null,
   "id": "7ea03aa1",
   "metadata": {},
   "outputs": [],
   "source": []
  },
  {
   "cell_type": "code",
   "execution_count": null,
   "id": "f1df9271",
   "metadata": {},
   "outputs": [],
   "source": []
  }
 ],
 "metadata": {
  "kernelspec": {
   "display_name": "Python 3",
   "language": "python",
   "name": "python3"
  },
  "language_info": {
   "codemirror_mode": {
    "name": "ipython",
    "version": 3
   },
   "file_extension": ".py",
   "mimetype": "text/x-python",
   "name": "python",
   "nbconvert_exporter": "python",
   "pygments_lexer": "ipython3",
   "version": "3.8.5"
  }
 },
 "nbformat": 4,
 "nbformat_minor": 5
}
